{
 "cells": [
  {
   "cell_type": "markdown",
   "id": "dc10a9b2",
   "metadata": {},
   "source": [
    "# Fun word patterns exhibited by Wordle *grid shares*."
   ]
  },
  {
   "cell_type": "markdown",
   "id": "a3ef7761",
   "metadata": {},
   "source": [
    "[Wordle](https://www.powerlanguage.co.uk/wordle/) is beautifully designed so that you can share your enjoyment of the game with friends, without spoiling their enjoyment of the game.\n",
    "How is that done? In Wordle, people can easily post their result grids to social media using the \"share\" option offered by the game. These posts include the feedback for each guess. But\n",
    "[as noted by the inventor Josh Wardle himself](https://twitter.com/powerlanguish/status/1471493886031773707),\n",
    "to avoid spoilers, the shares only contain the colors indicating whether the letters in the guess were in the target word, or also in the right spot.\n",
    "They look like this (using the \"colorblind\" setting, which I dearly appreciate):\n",
    "\n",
    "```\n",
    "Wordle 218 4/6\n",
    "\n",
    "⬜⬜⬜🟦⬜\n",
    "🟧⬜⬜⬜⬜\n",
    "⬜⬜🟦🟦⬜\n",
    "🟧🟧🟧🟧🟧\n",
    "```\n",
    "\n",
    "\n",
    "But what do those shares tell you about interesting patterns in words? And could you ever figure out the solution to a Wordle just by seeing a share?\n",
    "\n",
    "It turns out that occasionally, a share indirectly points out the existence of a limited set of other words similar to the day's answer. That can give you hints, if you are the type to dig in and play with such word patterns. You can call it cheating, or you can call it extending the game to suit your tastes. I figure that's what games are often all about.\n",
    "\n",
    "Here's an example. About one day in five sports an answer which is the same as some other word, when two letters are swapped. For example, one share from January 16 looks like this:\n",
    "\n",
    "```\n",
    "Wordle 211 4/6\n",
    "\n",
    "🟩⬜🟨🟨⬜\n",
    "🟩🟨🟨⬜⬜\n",
    "🟩🟩🟨🟩🟨\n",
    "🟩🟩🟩🟩🟩\n",
    "```\n",
    "\n",
    "The second-to-last row indicates that the answer just requires swapping the last letter with the third letter.\n",
    "That means we can look for all 5-letter words which are the same except for the swapping of those letters. We'll find that there are about 236 such words, for example \"*bares*\" and \"*baser*\". That narrows the search considerably from the\n",
    "[12,972 words that are legal guesses in Wordle identified by tglaiel](https://medium.com/@tglaiel/the-mathematically-optimal-first-guess-in-wordle-cbcb03c19b0a).\n",
    "\n",
    "\"*Hmmm*\", you might think. \"*What is a minimal spoiler post and the underlying solution?*\"\n",
    "It turns out that the shortest post that uniquely identifies a solution is just two rows long!\n",
    "\n",
    "In particular, my analysis suggests that there are only two words for which two rows of such \"swap\" clues would uniquely identify the word. For now, I'll leave them as an exercise for the reader. Note that only one of them shows up in the list of 2315 pre-defined daily answers (which are also identified in [tglaiel's post above](https://medium.com/@tglaiel/the-mathematically-optimal-first-guess-in-wordle-cbcb03c19b0a)). It turns out to be a delightfully suitable word! There may well be other 2-row solutions using different kinds of hints.\n",
    "\n",
    "I don't expect that these unusual \"spoilers\" will really cause anyone any heartache. But perhaps they'll lead you to other ways to play with the game.\n",
    "\n",
    "For the Python code behind this analysis (and actual spoilers), see [wordle_spoilers](githublink).\n",
    "\n",
    "----\n",
    "\n",
    "In general, the approach is:\n",
    "* treat each posted row as a clue restricting the set of possible answers\n",
    "* find intersection of sets for all the clues you've uncovered\n",
    "\n",
    "Clue types:\n",
    "* 3 green, 2 yellow: a \"swap\": the only words in the set have a mirror which is another valid word where the yellow positions are reversed.\n",
    " For example, only 138 5-letter words have a mirror with positions 1 and 4 swapped (where first position is 0). One of the (1,4) pairs is *actin* and *antic*.\n",
    "* 2 green, 3 yellow: there's another word where yellows are rotated circularly once or twice.\n",
    "* 1 green, 4 yellow: circularly rotate up to 3 times, or swap pairs in all 4-choose-2 = 6 ways \n",
    "* 5 yellow: circularly rotate up to 4 times, or for each of the 5-choose-2 partitions, swap and rotate one or 2 times\n",
    "* TODO: *There are probably other interesting clue types - work them out....*\n",
    "* 1 yellow: Yxxxx there is another word which has a letter in the given position which is also in the answer, elsewhere. This is probably only of marginal utility.\n",
    "\n",
    "TODO:\n",
    "* Work out code for all the various clue types. Only \"swap\" clues are covered so far.\n",
    "* Find intersection set for arbitrary set of clues.\n",
    "* Get a twitter feed with all Wordle clues, and run that algorithm continuously to see if we ever have enough usefule clues for a spoiler in real life. Note: look for the colorblind score posts (red and blue) also.\n",
    "\n",
    "Note an example in-real-life partial spoiler clue, for day 212, where the last two letters are swapped (3,4): https://twitter.com/lamorgan7/status/1485805254092410880\n",
    "\n",
    "Finally, what is a minimal post and the underlying solution?\n",
    "\n",
    "It turns out that if you notice each of these rows \"YRYRR\" \"RYRRY\" for any given day:\n",
    "```\n",
    "🟨🟩🟨🟩🟩\n",
    "🟩🟨🟩🟩🟨\n",
    "```\n",
    "\n",
    "that is a spoiler - it is enough all by itself to uniquely identify the answer, as demonstrated later on below. And the answer itself is pretty cool."
   ]
  },
  {
   "cell_type": "code",
   "execution_count": 1,
   "id": "a49db85b",
   "metadata": {},
   "outputs": [],
   "source": [
    "import itertools"
   ]
  },
  {
   "cell_type": "markdown",
   "id": "0135ed18",
   "metadata": {},
   "source": [
    "Read in word lists from the included copy of a January-2022 version of the official code."
   ]
  },
  {
   "cell_type": "code",
   "execution_count": 2,
   "id": "1695abb7",
   "metadata": {},
   "outputs": [],
   "source": [
    "with open(\"main.e65ce0a5.js\") as fn:\n",
    "    words_js = fn.read()"
   ]
  },
  {
   "cell_type": "markdown",
   "id": "cbc2d2a9",
   "metadata": {},
   "source": [
    "Pull out words used as answers (from the soution set, in order. Avert your eyes!...)"
   ]
  },
  {
   "cell_type": "code",
   "execution_count": 3,
   "id": "0291d4e8",
   "metadata": {},
   "outputs": [],
   "source": [
    "start = words_js.index(\"var La=\")"
   ]
  },
  {
   "cell_type": "code",
   "execution_count": 4,
   "id": "c493f071",
   "metadata": {},
   "outputs": [
    {
     "data": {
      "text/plain": [
       "28458"
      ]
     },
     "execution_count": 4,
     "metadata": {},
     "output_type": "execute_result"
    }
   ],
   "source": [
    "start"
   ]
  },
  {
   "cell_type": "code",
   "execution_count": 5,
   "id": "0959fcb9",
   "metadata": {},
   "outputs": [],
   "source": [
    "end = words_js[start:].index(']')"
   ]
  },
  {
   "cell_type": "code",
   "execution_count": 6,
   "id": "b5ed4b12",
   "metadata": {},
   "outputs": [
    {
     "data": {
      "text/plain": [
       "18527"
      ]
     },
     "execution_count": 6,
     "metadata": {},
     "output_type": "execute_result"
    }
   ],
   "source": [
    "end"
   ]
  },
  {
   "cell_type": "code",
   "execution_count": 7,
   "id": "5bf788dc",
   "metadata": {},
   "outputs": [],
   "source": [
    "answer_list = eval(words_js[start+7:start+end+1])"
   ]
  },
  {
   "cell_type": "code",
   "execution_count": 8,
   "id": "dab2e5c9",
   "metadata": {},
   "outputs": [],
   "source": [
    "answers = set(answer_list)"
   ]
  },
  {
   "cell_type": "code",
   "execution_count": 9,
   "id": "3d6eeea4",
   "metadata": {},
   "outputs": [],
   "source": [
    "assert len(answers) == 2315"
   ]
  },
  {
   "cell_type": "markdown",
   "id": "abf64681",
   "metadata": {},
   "source": [
    "Pull out all other legal word guesses"
   ]
  },
  {
   "cell_type": "code",
   "execution_count": 10,
   "id": "66aedd3e",
   "metadata": {},
   "outputs": [],
   "source": [
    "startl = words_js.index(\",Ta=\")"
   ]
  },
  {
   "cell_type": "code",
   "execution_count": 11,
   "id": "4dd74e68",
   "metadata": {},
   "outputs": [],
   "source": [
    "endl = words_js[startl:].index(']')"
   ]
  },
  {
   "cell_type": "code",
   "execution_count": 12,
   "id": "ed17eebf",
   "metadata": {
    "scrolled": true
   },
   "outputs": [
    {
     "data": {
      "text/plain": [
       "46986"
      ]
     },
     "execution_count": 12,
     "metadata": {},
     "output_type": "execute_result"
    }
   ],
   "source": [
    "startl"
   ]
  },
  {
   "cell_type": "code",
   "execution_count": 13,
   "id": "31671e98",
   "metadata": {},
   "outputs": [
    {
     "data": {
      "text/plain": [
       "85260"
      ]
     },
     "execution_count": 13,
     "metadata": {},
     "output_type": "execute_result"
    }
   ],
   "source": [
    "endl"
   ]
  },
  {
   "cell_type": "code",
   "execution_count": 14,
   "id": "920dfacd",
   "metadata": {},
   "outputs": [],
   "source": [
    "seq = words_js[startl+4:startl+endl+1]"
   ]
  },
  {
   "cell_type": "code",
   "execution_count": 15,
   "id": "7bf65c25",
   "metadata": {},
   "outputs": [
    {
     "data": {
      "text/plain": [
       "'[\"aahed\",\"'"
      ]
     },
     "execution_count": 15,
     "metadata": {},
     "output_type": "execute_result"
    }
   ],
   "source": [
    "seq[:10]"
   ]
  },
  {
   "cell_type": "code",
   "execution_count": 16,
   "id": "e49dc181",
   "metadata": {},
   "outputs": [
    {
     "data": {
      "text/plain": [
       "'\",\"zymic\"]'"
      ]
     },
     "execution_count": 16,
     "metadata": {},
     "output_type": "execute_result"
    }
   ],
   "source": [
    "seq[-10:]"
   ]
  },
  {
   "cell_type": "markdown",
   "id": "4988ccac",
   "metadata": {},
   "source": [
    "Combine answer words with the rest to get the full set of legal words."
   ]
  },
  {
   "cell_type": "code",
   "execution_count": 17,
   "id": "bccd2724",
   "metadata": {},
   "outputs": [],
   "source": [
    "words = set(eval(seq)) | answers"
   ]
  },
  {
   "cell_type": "code",
   "execution_count": 18,
   "id": "1c9b2df7",
   "metadata": {},
   "outputs": [],
   "source": [
    "assert len(words) == 12972"
   ]
  },
  {
   "cell_type": "markdown",
   "id": "02d0cc20",
   "metadata": {},
   "source": [
    "## Define clue sets for swaps\n",
    "\n",
    "Start with the most valuable clues: three greens and 2 yellows, and see how many words remain when each possible pair of letters is swapped."
   ]
  },
  {
   "cell_type": "code",
   "execution_count": 19,
   "id": "d9496635",
   "metadata": {},
   "outputs": [],
   "source": [
    "# From https://stackoverflow.com/users/986059/robotbugs at https://stackoverflow.com/a/57517842/507544\n",
    "def swap_indices(item, swap):\n",
    "    \"\"\"Swap the elements indexed by the swap tuple in the item (a string or tuple)\n",
    "\n",
    "    >>> swap_indices(\"12345\", (0,1))\n",
    "    '21345'\n",
    "    \"\"\"\n",
    "\n",
    "    s0 = min(swap)\n",
    "    s1 = max(swap)\n",
    "    if isinstance(item,str):\n",
    "        return item[:s0]+item[s1]+item[s0+1:s1]+item[s0]+item[s1+1:]\n",
    "    elif isinstance(item,tuple):\n",
    "        return item[:s0]+(item[s1],)+item[s0+1:s1]+(item[s0],)+item[s1+1:]\n",
    "    else:\n",
    "        raise ValueError(\"Type not supported\")"
   ]
  },
  {
   "cell_type": "markdown",
   "id": "19dcbeaf",
   "metadata": {},
   "source": [
    "Make `swaplists` dictionary. For every pair of distinct letters that can be swapped (`swaps`), collect for word pairs that swap them."
   ]
  },
  {
   "cell_type": "code",
   "execution_count": 20,
   "id": "361003fc",
   "metadata": {},
   "outputs": [],
   "source": [
    "swaps = list(itertools.combinations(range(5), 2))"
   ]
  },
  {
   "cell_type": "code",
   "execution_count": 21,
   "id": "dd2898f5",
   "metadata": {},
   "outputs": [
    {
     "data": {
      "text/plain": [
       "(0, 1)"
      ]
     },
     "execution_count": 21,
     "metadata": {},
     "output_type": "execute_result"
    }
   ],
   "source": [
    "swaps[0]"
   ]
  },
  {
   "cell_type": "code",
   "execution_count": 22,
   "id": "ee0a3547",
   "metadata": {},
   "outputs": [],
   "source": [
    "swaplists = {}\n",
    "for swap in swaps:\n",
    "  swaplists[swap] = set()\n",
    "  for word in words:\n",
    "    swapped = swap_indices(word, swap)\n",
    "    # Skip these: swapping duplicated letters changes nothing\n",
    "    if word == swapped:\n",
    "        continue\n",
    "    if swapped in words:\n",
    "        swaplists[swap].add(word)"
   ]
  },
  {
   "cell_type": "code",
   "execution_count": 23,
   "id": "49b1e95b",
   "metadata": {},
   "outputs": [
    {
     "data": {
      "text/plain": [
       "138"
      ]
     },
     "execution_count": 23,
     "metadata": {},
     "output_type": "execute_result"
    }
   ],
   "source": [
    "len(swaplists[(1,4)])"
   ]
  },
  {
   "cell_type": "code",
   "execution_count": 24,
   "id": "35408a30",
   "metadata": {
    "scrolled": true
   },
   "outputs": [
    {
     "data": {
      "text/plain": [
       "{'actin',\n",
       " 'algor',\n",
       " 'altar',\n",
       " 'alter',\n",
       " 'alvar',\n",
       " 'antic',\n",
       " 'argol',\n",
       " 'artal',\n",
       " 'artel',\n",
       " 'artis',\n",
       " 'arval',\n",
       " 'astir',\n",
       " 'atony',\n",
       " 'ayont',\n",
       " 'bacco',\n",
       " 'bocca',\n",
       " 'caste',\n",
       " 'cento',\n",
       " 'cesta',\n",
       " 'chaco',\n",
       " 'choco',\n",
       " 'coach',\n",
       " 'conte',\n",
       " 'cooch',\n",
       " 'doobs',\n",
       " 'dooms',\n",
       " 'dsobo',\n",
       " 'dsomo',\n",
       " 'flair',\n",
       " 'frail',\n",
       " 'gamme',\n",
       " 'gemma',\n",
       " 'gesso',\n",
       " 'glair',\n",
       " 'gluer',\n",
       " 'gosse',\n",
       " 'grail',\n",
       " 'gruel',\n",
       " 'hallo',\n",
       " 'holla',\n",
       " 'idles',\n",
       " 'isled',\n",
       " 'lacey',\n",
       " 'lassy',\n",
       " 'lycea',\n",
       " 'lyssa',\n",
       " 'macho',\n",
       " 'manse',\n",
       " 'matzo',\n",
       " 'mensa',\n",
       " 'mento',\n",
       " 'mesto',\n",
       " 'mocha',\n",
       " 'monte',\n",
       " 'moste',\n",
       " 'motza',\n",
       " 'oasis',\n",
       " 'orcas',\n",
       " 'oscar',\n",
       " 'ossia',\n",
       " 'panne',\n",
       " 'panni',\n",
       " 'penna',\n",
       " 'pinna',\n",
       " 'range',\n",
       " 'renga',\n",
       " 'salle',\n",
       " 'salve',\n",
       " 'sasse',\n",
       " 'scrae',\n",
       " 'sella',\n",
       " 'selva',\n",
       " 'sengi',\n",
       " 'serac',\n",
       " 'sessa',\n",
       " 'singe',\n",
       " 'skart',\n",
       " 'skean',\n",
       " 'skeet',\n",
       " 'skelp',\n",
       " 'skint',\n",
       " 'skirt',\n",
       " 'skort',\n",
       " 'slain',\n",
       " 'sleep',\n",
       " 'sleet',\n",
       " 'sloop',\n",
       " 'sloot',\n",
       " 'snail',\n",
       " 'sneak',\n",
       " 'sneap',\n",
       " 'snoop',\n",
       " 'snout',\n",
       " 'spean',\n",
       " 'speel',\n",
       " 'spelk',\n",
       " 'spirt',\n",
       " 'spool',\n",
       " 'spoon',\n",
       " 'spoot',\n",
       " 'spout',\n",
       " 'sprat',\n",
       " 'sprit',\n",
       " 'stark',\n",
       " 'steek',\n",
       " 'steel',\n",
       " 'stink',\n",
       " 'stirk',\n",
       " 'stirp',\n",
       " 'stool',\n",
       " 'stoop',\n",
       " 'stork',\n",
       " 'stoun',\n",
       " 'stoup',\n",
       " 'strap',\n",
       " 'strip',\n",
       " 'tango',\n",
       " 'targe',\n",
       " 'tarre',\n",
       " 'taste',\n",
       " 'teads',\n",
       " 'teeth',\n",
       " 'tenno',\n",
       " 'terga',\n",
       " 'terra',\n",
       " 'testa',\n",
       " 'tetri',\n",
       " 'thete',\n",
       " 'titre',\n",
       " 'tonga',\n",
       " 'tonne',\n",
       " 'tsade',\n",
       " 'ulnar',\n",
       " 'unbar',\n",
       " 'urban',\n",
       " 'urnal',\n",
       " 'whoso',\n",
       " 'woosh'}"
      ]
     },
     "execution_count": 24,
     "metadata": {},
     "output_type": "execute_result"
    }
   ],
   "source": [
    "swaplists[(1,4)]"
   ]
  },
  {
   "cell_type": "markdown",
   "id": "40dfb380",
   "metadata": {},
   "source": [
    "How big is each `swaplist`?"
   ]
  },
  {
   "cell_type": "code",
   "execution_count": 25,
   "id": "d5977340",
   "metadata": {},
   "outputs": [
    {
     "data": {
      "text/plain": [
       "[((0, 1), 252),\n",
       " ((0, 2), 662),\n",
       " ((0, 3), 378),\n",
       " ((0, 4), 254),\n",
       " ((1, 2), 458),\n",
       " ((1, 3), 336),\n",
       " ((1, 4), 138),\n",
       " ((2, 3), 476),\n",
       " ((2, 4), 236),\n",
       " ((3, 4), 448)]"
      ]
     },
     "execution_count": 25,
     "metadata": {},
     "output_type": "execute_result"
    }
   ],
   "source": [
    "[(k, len(v)) for k, v in swaplists.items()]"
   ]
  },
  {
   "cell_type": "markdown",
   "id": "e0ea604c",
   "metadata": {},
   "source": [
    "## Look at combinations of all possible pairs of swaps\n",
    "Find the intersection of possible words for each pair of `swap`s"
   ]
  },
  {
   "cell_type": "code",
   "execution_count": 26,
   "id": "eb0d8c87",
   "metadata": {},
   "outputs": [],
   "source": [
    "cross_indices = list(itertools.combinations(swaps, 2))"
   ]
  },
  {
   "cell_type": "code",
   "execution_count": 27,
   "id": "d4712c59",
   "metadata": {},
   "outputs": [
    {
     "data": {
      "text/plain": [
       "((0, 1), (0, 2))"
      ]
     },
     "execution_count": 27,
     "metadata": {},
     "output_type": "execute_result"
    }
   ],
   "source": [
    "cross_indices[0]"
   ]
  },
  {
   "cell_type": "code",
   "execution_count": 28,
   "id": "898dc2ab",
   "metadata": {},
   "outputs": [],
   "source": [
    "def inter(s1, s2):\n",
    "    \"Return intersection of sets for swaps s1 and s2 and other info\"\n",
    "\n",
    "    intersection = swaplists[s1] & swaplists[s2]\n",
    "    return ((s1, s2), len(intersection), intersection & answers, intersection)"
   ]
  },
  {
   "cell_type": "markdown",
   "id": "1aca8cad",
   "metadata": {},
   "source": [
    "List all pairs of swaps, with set of words in intersection of membership of each, along with indexes, length of the intersection, and membership of the intersection in the answer set"
   ]
  },
  {
   "cell_type": "code",
   "execution_count": 29,
   "id": "b31df563",
   "metadata": {},
   "outputs": [],
   "source": [
    "unsorted = [(indices, inter(*indices)) for indices in cross_indices]"
   ]
  },
  {
   "cell_type": "markdown",
   "id": "7f2b4a47",
   "metadata": {},
   "source": [
    "An example.\n",
    "\n",
    "(We repeat the pair of swaps because when we make a dictionary from this list, we need the key for the dictionary to be the first element of the tuple.)"
   ]
  },
  {
   "cell_type": "code",
   "execution_count": 30,
   "id": "f3982720",
   "metadata": {},
   "outputs": [
    {
     "data": {
      "text/plain": [
       "(((0, 1), (0, 3)),\n",
       " (((0, 1), (0, 3)),\n",
       "  8,\n",
       "  set(),\n",
       "  {'agger', 'asker', 'doors', 'ewest', 'gaita', 'leans', 'octan', 'rails'}))"
      ]
     },
     "execution_count": 30,
     "metadata": {},
     "output_type": "execute_result"
    }
   ],
   "source": [
    "unsorted[1]"
   ]
  },
  {
   "cell_type": "markdown",
   "id": "20f21d5b",
   "metadata": {},
   "source": [
    "Collect all the intersections in a dictionary for lookup later."
   ]
  },
  {
   "cell_type": "code",
   "execution_count": 31,
   "id": "7cd5d952",
   "metadata": {},
   "outputs": [],
   "source": [
    "crosses = dict(sorted(unsorted, key=lambda x:x[1][1]))"
   ]
  },
  {
   "cell_type": "code",
   "execution_count": 32,
   "id": "31ac35a8",
   "metadata": {
    "scrolled": false
   },
   "outputs": [
    {
     "data": {
      "text/plain": [
       "45"
      ]
     },
     "execution_count": 32,
     "metadata": {},
     "output_type": "execute_result"
    }
   ],
   "source": [
    "len(crosses)"
   ]
  },
  {
   "cell_type": "markdown",
   "id": "78eacfaf",
   "metadata": {},
   "source": [
    "Find those which are unambiguous (length 1) for the intersection when considering all words, and the intersection considering only answers in the actual game."
   ]
  },
  {
   "cell_type": "code",
   "execution_count": 33,
   "id": "9412b798",
   "metadata": {},
   "outputs": [],
   "source": [
    "uniques = [cross for cross in crosses.values() if len(cross[3]) == 1]"
   ]
  },
  {
   "cell_type": "markdown",
   "id": "c656821c",
   "metadata": {},
   "source": [
    "There are only two, only one of which (the first) is also a pre-defined answer:"
   ]
  },
  {
   "cell_type": "code",
   "execution_count": 34,
   "id": "2d550f75",
   "metadata": {},
   "outputs": [
    {
     "data": {
      "text/plain": [
       "[(((0, 2), (1, 4)), 1, {'grail'}, {'grail'}),\n",
       " (((1, 4), (2, 4)), 1, set(), {'testa'})]"
      ]
     },
     "execution_count": 34,
     "metadata": {},
     "output_type": "execute_result"
    }
   ],
   "source": [
    "uniques"
   ]
  },
  {
   "cell_type": "markdown",
   "id": "2b95fa2b",
   "metadata": {},
   "source": [
    "**So if you notice people sharing feedback like \"YRYRR\" as well as \"RYRRY\", you know the answer is \"grail\"! Pretty cool.**"
   ]
  },
  {
   "cell_type": "markdown",
   "id": "dbbd3931",
   "metadata": {},
   "source": [
    "## Check out another example"
   ]
  },
  {
   "cell_type": "code",
   "execution_count": 35,
   "id": "e46bbb3c",
   "metadata": {},
   "outputs": [],
   "source": [
    "cross = crosses[((0, 1), (0, 4))]"
   ]
  },
  {
   "cell_type": "code",
   "execution_count": 36,
   "id": "3a27499f",
   "metadata": {},
   "outputs": [
    {
     "data": {
      "text/plain": [
       "(((0, 1), (0, 4)),\n",
       " 14,\n",
       " {'later', 'lever'},\n",
       " {'dault',\n",
       "  'elans',\n",
       "  'etats',\n",
       "  'lames',\n",
       "  'later',\n",
       "  'lever',\n",
       "  'natis',\n",
       "  'raked',\n",
       "  'ramet',\n",
       "  'rases',\n",
       "  'ratel',\n",
       "  'roles',\n",
       "  'saker',\n",
       "  'talas'})"
      ]
     },
     "execution_count": 36,
     "metadata": {},
     "output_type": "execute_result"
    }
   ],
   "source": [
    "cross"
   ]
  },
  {
   "cell_type": "code",
   "execution_count": 37,
   "id": "97119137",
   "metadata": {},
   "outputs": [
    {
     "name": "stdout",
     "output_type": "stream",
     "text": [
      "Intersection between sets for ((0, 1), (0, 4)): {'ratel', 'rases', 'saker', 'natis', 'roles', 'elans', 'etats', 'raked', 'dault', 'later', 'lames', 'ramet', 'lever', 'talas'}\n",
      "word='lever', swap=(0, 1), swapped='elver', True, True\n",
      "word='lever', swap=(0, 4), swapped='revel', True, True\n",
      "word='later', swap=(0, 1), swapped='alter', True, True\n",
      "word='later', swap=(0, 4), swapped='ratel', True, True\n"
     ]
    }
   ],
   "source": [
    "# Validate a sample result\n",
    "print(f'Intersection between sets for {cross[0]}: {swaplists[cross[0][0]] & swaplists[cross[0][1]]}')\n",
    "for word in cross[2]:\n",
    "    for swap in cross[0]:\n",
    "        swapped = swap_indices(word, swap)\n",
    "        print(f'{word=}, {swap=}, {swapped=}, {word in answers}, {swapped in words}')"
   ]
  },
  {
   "cell_type": "markdown",
   "id": "149b7235",
   "metadata": {},
   "source": [
    "## Notice the word \"*salve*\" here in two different pairs of *nearly*-unique rows:"
   ]
  },
  {
   "cell_type": "code",
   "execution_count": 38,
   "id": "32553cbd",
   "metadata": {},
   "outputs": [
    {
     "data": {
      "text/plain": [
       "[(((0, 1), (1, 3)),\n",
       "  5,\n",
       "  {'baler'},\n",
       "  {'baler', 'koras', 'pater', 'tsars', 'veils'}),\n",
       " (((0, 2), (1, 4)), 1, {'grail'}, {'grail'}),\n",
       " (((0, 3), (1, 3)), 4, set(), {'deers', 'feers', 'krabs', 'plaas'}),\n",
       " (((0, 3), (1, 4)), 3, {'salve'}, {'dooms', 'orcas', 'salve'}),\n",
       " (((0, 3), (2, 4)),\n",
       "  5,\n",
       "  {'inlet'},\n",
       "  {'inlet', 'lares', 'lores', 'poohs', 'teals'}),\n",
       " (((1, 2), (1, 4)), 2, {'salve', 'stool'}, {'salve', 'stool'}),\n",
       " (((1, 4), (2, 4)), 1, set(), {'testa'}),\n",
       " (((1, 4), (3, 4)), 4, {'steel'}, {'manse', 'steel', 'tenno', 'titre'})]"
      ]
     },
     "execution_count": 38,
     "metadata": {},
     "output_type": "execute_result"
    }
   ],
   "source": [
    "[cross[1] for cross in unsorted if 1 <= len(cross[1][3]) <= 5]"
   ]
  },
  {
   "cell_type": "code",
   "execution_count": 39,
   "id": "c9ed722c",
   "metadata": {},
   "outputs": [],
   "source": [
    "assert 'salve' in swaplists[(1,4)]"
   ]
  },
  {
   "cell_type": "markdown",
   "id": "bdbad9da",
   "metadata": {},
   "source": [
    "## Prepare to search Twitter for spoilers"
   ]
  },
  {
   "cell_type": "markdown",
   "id": "8b432217",
   "metadata": {},
   "source": [
    "Identify recent answers for which good clues are available"
   ]
  },
  {
   "cell_type": "code",
   "execution_count": 40,
   "id": "fef0668e",
   "metadata": {},
   "outputs": [
    {
     "data": {
      "text/plain": [
       "2315"
      ]
     },
     "execution_count": 40,
     "metadata": {},
     "output_type": "execute_result"
    }
   ],
   "source": [
    "len(answers)"
   ]
  },
  {
   "cell_type": "markdown",
   "id": "f17e503e",
   "metadata": {},
   "source": [
    "Construct the union of all `swaplists`. Every word in any one of them has a good clue."
   ]
  },
  {
   "cell_type": "code",
   "execution_count": 41,
   "id": "5912124c",
   "metadata": {},
   "outputs": [],
   "source": [
    "any_swap = set()\n",
    "for swaplist in swaplists.values():\n",
    "    any_swap |= swaplist"
   ]
  },
  {
   "cell_type": "code",
   "execution_count": 42,
   "id": "6105b0bc",
   "metadata": {},
   "outputs": [
    {
     "data": {
      "text/plain": [
       "2993"
      ]
     },
     "execution_count": 42,
     "metadata": {},
     "output_type": "execute_result"
    }
   ],
   "source": [
    "len(any_swap)"
   ]
  },
  {
   "cell_type": "markdown",
   "id": "b6bc8a5b",
   "metadata": {},
   "source": [
    "What percent of words have a swap?"
   ]
  },
  {
   "cell_type": "code",
   "execution_count": 43,
   "id": "2ab8a62d",
   "metadata": {},
   "outputs": [
    {
     "data": {
      "text/plain": [
       "'23%'"
      ]
     },
     "execution_count": 43,
     "metadata": {},
     "output_type": "execute_result"
    }
   ],
   "source": [
    "f'{2993/12972:.0%}'"
   ]
  },
  {
   "cell_type": "markdown",
   "id": "ba5b425a",
   "metadata": {},
   "source": [
    "What percent of hand-picked answers have a swap?"
   ]
  },
  {
   "cell_type": "code",
   "execution_count": 44,
   "id": "106a3b05",
   "metadata": {},
   "outputs": [
    {
     "data": {
      "text/plain": [
       "427"
      ]
     },
     "execution_count": 44,
     "metadata": {},
     "output_type": "execute_result"
    }
   ],
   "source": [
    "len(any_swap & answers)"
   ]
  },
  {
   "cell_type": "code",
   "execution_count": 45,
   "id": "484b2663",
   "metadata": {},
   "outputs": [
    {
     "data": {
      "text/plain": [
       "'18%'"
      ]
     },
     "execution_count": 45,
     "metadata": {},
     "output_type": "execute_result"
    }
   ],
   "source": [
    "f'{427/2313:.0%}'"
   ]
  },
  {
   "cell_type": "markdown",
   "id": "9986857d",
   "metadata": {},
   "source": [
    "Look at recent days"
   ]
  },
  {
   "cell_type": "code",
   "execution_count": 46,
   "id": "0d314926",
   "metadata": {},
   "outputs": [],
   "source": [
    "# 2022-01-27\n",
    "today = 222"
   ]
  },
  {
   "cell_type": "code",
   "execution_count": 47,
   "id": "0d42545e",
   "metadata": {},
   "outputs": [
    {
     "data": {
      "text/plain": [
       "192"
      ]
     },
     "execution_count": 47,
     "metadata": {},
     "output_type": "execute_result"
    }
   ],
   "source": [
    "# earliest we can pretty easily get from Twittere API\n",
    "today - 30"
   ]
  },
  {
   "cell_type": "code",
   "execution_count": 48,
   "id": "ab4c08b4",
   "metadata": {},
   "outputs": [],
   "source": [
    "near = answer_list[today-30:today+70]"
   ]
  },
  {
   "cell_type": "code",
   "execution_count": 49,
   "id": "3edc5ada",
   "metadata": {},
   "outputs": [],
   "source": [
    "target = any_swap & set(near)"
   ]
  },
  {
   "cell_type": "code",
   "execution_count": 50,
   "id": "d3b27e33",
   "metadata": {},
   "outputs": [
    {
     "data": {
      "text/plain": [
       "15"
      ]
     },
     "execution_count": 50,
     "metadata": {},
     "output_type": "execute_result"
    }
   ],
   "source": [
    "len(target)"
   ]
  },
  {
   "cell_type": "code",
   "execution_count": 51,
   "id": "deaccc07",
   "metadata": {},
   "outputs": [
    {
     "data": {
      "text/plain": [
       "[196, 197, 202, 211, 212, 221, 227, 228, 231, 257, 264, 268, 272, 289, 290]"
      ]
     },
     "execution_count": 51,
     "metadata": {},
     "output_type": "execute_result"
    }
   ],
   "source": [
    "sorted([answer_list.index(t) for t in target])[:15]"
   ]
  },
  {
   "cell_type": "code",
   "execution_count": 52,
   "id": "f7a7fc5d",
   "metadata": {},
   "outputs": [
    {
     "data": {
      "text/plain": [
       "[-68, -67, -50, -46, -42, -35, -9, -6, -5, 1, 10, 11, 20, 25, 26]"
      ]
     },
     "execution_count": 52,
     "metadata": {},
     "output_type": "execute_result"
    }
   ],
   "source": [
    "sorted([today-answer_list.index(t) for t in target])"
   ]
  },
  {
   "cell_type": "markdown",
   "id": "b90338c0",
   "metadata": {},
   "source": [
    "## Suppose we were on day 211 and wanted to look for and use this sort of hint.\n",
    "Note that we can play old Wordles online via [Wordle Archive](https://www.devangthakkar.com/wordle_archive/?211)"
   ]
  },
  {
   "cell_type": "code",
   "execution_count": 53,
   "id": "e6d616a1",
   "metadata": {},
   "outputs": [],
   "source": [
    "day = 211"
   ]
  },
  {
   "cell_type": "code",
   "execution_count": 54,
   "id": "b384026a",
   "metadata": {},
   "outputs": [],
   "source": [
    "word = answer_list[day]"
   ]
  },
  {
   "cell_type": "code",
   "execution_count": 55,
   "id": "7c96042e",
   "metadata": {},
   "outputs": [],
   "source": [
    "dayswaps = [swap for swap,val in swaplists.items() if word in val]"
   ]
  },
  {
   "cell_type": "code",
   "execution_count": 56,
   "id": "dddac69b",
   "metadata": {},
   "outputs": [
    {
     "data": {
      "text/plain": [
       "1"
      ]
     },
     "execution_count": 56,
     "metadata": {},
     "output_type": "execute_result"
    }
   ],
   "source": [
    "len(dayswaps)"
   ]
  },
  {
   "cell_type": "markdown",
   "id": "5dd4546f",
   "metadata": {},
   "source": [
    "The hint would be a swap of (2, 4) (🟩🟩🟨🟩🟨), narrowing the search to one of 236 words:"
   ]
  },
  {
   "cell_type": "code",
   "execution_count": 57,
   "id": "6349cb22",
   "metadata": {},
   "outputs": [
    {
     "data": {
      "text/plain": [
       "[(2, 4)]"
      ]
     },
     "execution_count": 57,
     "metadata": {},
     "output_type": "execute_result"
    }
   ],
   "source": [
    "dayswaps"
   ]
  },
  {
   "cell_type": "code",
   "execution_count": 58,
   "id": "0689231f",
   "metadata": {},
   "outputs": [],
   "source": [
    "cluelist = swaplists[dayswaps[0]]"
   ]
  },
  {
   "cell_type": "code",
   "execution_count": 59,
   "id": "f2c08efe",
   "metadata": {},
   "outputs": [
    {
     "data": {
      "text/plain": [
       "236"
      ]
     },
     "execution_count": 59,
     "metadata": {},
     "output_type": "execute_result"
    }
   ],
   "source": [
    "len(cluelist)"
   ]
  },
  {
   "cell_type": "markdown",
   "id": "ab787489",
   "metadata": {},
   "source": [
    "At this point we have a simplified game, but it still might take a lot of guesses to narrow the answers. Note that combining this sort of up-front \"spoiler\" clue with a more clever human strategy, or of course one of the other Wordle code bases out there that picks an optimal set of guesses, might well do better. For now we'll just illustrate one way to use the information already assembled here.\n",
    "\n",
    "So here's one possible sequence, illustrating my choices the first time I used this technique."
   ]
  },
  {
   "cell_type": "code",
   "execution_count": 60,
   "id": "de82ec63",
   "metadata": {},
   "outputs": [
    {
     "data": {
      "text/plain": [
       "'abmho'"
      ]
     },
     "execution_count": 60,
     "metadata": {},
     "output_type": "execute_result"
    }
   ],
   "source": [
    "sorted(list(cluelist))[0]"
   ]
  },
  {
   "cell_type": "markdown",
   "id": "b86810b1",
   "metadata": {},
   "source": [
    "If we play that, we get the response 🟨⬜⬜⬜🟨 and learn that 'a' and 'o' are in the word but not in those positions. So what's left? 20 posssibilities:"
   ]
  },
  {
   "cell_type": "code",
   "execution_count": 61,
   "id": "f177d772",
   "metadata": {},
   "outputs": [],
   "source": [
    "r0 = [l for l in cluelist if 'a' in l[1:] and 'o' in l[:4]]"
   ]
  },
  {
   "cell_type": "code",
   "execution_count": 62,
   "id": "101c0a52",
   "metadata": {},
   "outputs": [
    {
     "data": {
      "text/plain": [
       "20"
      ]
     },
     "execution_count": 62,
     "metadata": {},
     "output_type": "execute_result"
    }
   ],
   "source": [
    "len(r0)"
   ]
  },
  {
   "cell_type": "markdown",
   "id": "62892d30",
   "metadata": {},
   "source": [
    "A possible next guess:"
   ]
  },
  {
   "cell_type": "code",
   "execution_count": 63,
   "id": "4c8d7d07",
   "metadata": {},
   "outputs": [
    {
     "data": {
      "text/plain": [
       "'coarb'"
      ]
     },
     "execution_count": 63,
     "metadata": {},
     "output_type": "execute_result"
    }
   ],
   "source": [
    "sorted(r0)[2]"
   ]
  },
  {
   "cell_type": "markdown",
   "id": "3532dfb6",
   "metadata": {},
   "source": [
    "If we try that, we get the response ⬜🟩🟨🟨⬜. We see that only 8 possibilities remain."
   ]
  },
  {
   "cell_type": "code",
   "execution_count": 64,
   "id": "02f75e17",
   "metadata": {},
   "outputs": [],
   "source": [
    "r1 = [l for l in cluelist if l[1]=='o' and 'a' in l[3:] and ('r' == l[0] or 'r' == l[2] or 'r' == l[4])]"
   ]
  },
  {
   "cell_type": "code",
   "execution_count": 65,
   "id": "d0a03be1",
   "metadata": {},
   "outputs": [
    {
     "data": {
      "text/plain": [
       "8"
      ]
     },
     "execution_count": 65,
     "metadata": {},
     "output_type": "execute_result"
    }
   ],
   "source": [
    "len(r1)"
   ]
  },
  {
   "cell_type": "code",
   "execution_count": 66,
   "id": "b436e5d1",
   "metadata": {},
   "outputs": [
    {
     "data": {
      "text/plain": [
       "'solar'"
      ]
     },
     "execution_count": 66,
     "metadata": {},
     "output_type": "execute_result"
    }
   ],
   "source": [
    "sorted(r1)[6]"
   ]
  },
  {
   "cell_type": "markdown",
   "id": "1df57c8b",
   "metadata": {},
   "source": [
    "And, lucky me, that was the answer!"
   ]
  },
  {
   "cell_type": "markdown",
   "id": "9aa426ab",
   "metadata": {},
   "source": [
    "## TODO\n",
    "\n",
    "Next: pull some actual clues from twitter, decode them, figure out what kind of clue they are, if they're a swap, pull the indicies of the letters that are swapped, and automate the narrowing of the possible set of answers."
   ]
  },
  {
   "cell_type": "code",
   "execution_count": 67,
   "id": "63362e30",
   "metadata": {},
   "outputs": [],
   "source": [
    "# fhere's a python snippet for how to find the positions of all the yellows in a row of grid feedback\n",
    "# indices = [i for i, x in enumerate(my_list) if x == \"yellow\"]"
   ]
  }
 ],
 "metadata": {
  "kernelspec": {
   "display_name": "Python 3 (ipykernel)",
   "language": "python",
   "name": "python3"
  },
  "language_info": {
   "codemirror_mode": {
    "name": "ipython",
    "version": 3
   },
   "file_extension": ".py",
   "mimetype": "text/x-python",
   "name": "python",
   "nbconvert_exporter": "python",
   "pygments_lexer": "ipython3",
   "version": "3.8.10"
  }
 },
 "nbformat": 4,
 "nbformat_minor": 5
}
